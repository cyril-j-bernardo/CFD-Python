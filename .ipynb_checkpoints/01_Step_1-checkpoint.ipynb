{
 "cells": [
  {
   "cell_type": "markdown",
   "metadata": {},
   "source": [
    "# Step 1: 1-D Linear Convection\n",
    "\n",
    "The basic model is a good building block to begin with.\n",
    " \n",
    "$$\\frac{\\partial u}{\\partial t} + c\\frac{\\partial u}{\\partial x} = 0$$\n",
    "\n",
    "The initial condition of $u(x, 0) = u_0(x)$ makes the exact solution of the equation $u(x, t) = u_0(x - ct)$\n",
    "\n",
    "We need to discretize the equation in both space and time, so we use the *Forward Difference Scheme* for the time derivative and the *Backward Difference Scheme* for the space derivative. The spatial coordinate, *x*, is discretized into *N* points, where $x_i ; i = 0, N$. The time steps are discretized in $\\Delta{t}$\n",
    "\n",
    "$$\\frac{\\partial u}{\\partial x} \\approx \\frac{u(x + \\Delta{x}) - u(x)}{\\Delta{x}}$$\n",
    "\n",
    "The discrete equation then, is\n",
    "\n",
    "$$u_i^{n+1} = u_i^n - c\\frac{\\Delta t}{\\Delta x}(u_i^n - u_{i-1}^n)$$\n",
    "\n",
    "Now, we implement."
   ]
  },
  {
   "cell_type": "code",
   "execution_count": 177,
   "metadata": {},
   "outputs": [],
   "source": [
    "# code start\n",
    "import numpy as np\n",
    "from matplotlib import pyplot as plt\n",
    "from matplotlib import animation as animation\n",
    "import time, sys\n",
    "\n",
    "# this will make matplotlib appear in the notebook, not in a new window\n",
    "%matplotlib inline\n",
    "\n",
    "# experiment variables\n",
    "num_x = 100 # number of discretized steps in the space-domain\n",
    "len_x = 2 # length of space-domain\n",
    "dx = len_x / (num_x-1) # size of each step in space domain\n",
    "time_steps = 200 # amount of time steps\n",
    "time_length = 1 # amount of time of simulation\n",
    "dt = time_length / time_steps # change of time per step\n",
    "c = 2 # wavespeed, c = 1\n",
    " \n"
   ]
  },
  {
   "cell_type": "markdown",
   "metadata": {},
   "source": [
    "We also need to set up initial conditions. $u = 2$ in the interval $0.5 \\leq x \\leq 1$ and $u = 1$ everywhere else in (0, 2)"
   ]
  },
  {
   "cell_type": "code",
   "execution_count": 178,
   "metadata": {},
   "outputs": [],
   "source": [
    "u = np.zeros([time_steps, num_x])\n",
    "u[0, :] = np.ones([1, num_x])\n",
    "u[0, int(0.5/dx):int(1/dx+1)] = 2"
   ]
  },
  {
   "cell_type": "markdown",
   "metadata": {},
   "source": [
    "We want to observe the initial conditions graphically"
   ]
  },
  {
   "cell_type": "code",
   "execution_count": 179,
   "metadata": {},
   "outputs": [
    {
     "data": {
      "image/png": "[encoded data removed]",
      "text/plain": [
       "<Figure size 432x288 with 1 Axes>"
      ]
     },
     "metadata": {},
     "output_type": "display_data"
    }
   ],
   "source": [
    "pyplot.plot(np.linspace(0, 2, num_x), u[0, :]);"
   ]
  },
  {
   "cell_type": "markdown",
   "metadata": {},
   "source": [
    "Time to implement the convection equation. For every element in *u*, we need to perform $u_i^{n+1} = u_i^n - c\\frac{\\Delta t}{\\Delta x}(u_i^n - u_{i-1}^n)$"
   ]
  },
  {
   "cell_type": "code",
   "execution_count": 180,
   "metadata": {},
   "outputs": [
    {
     "data": {
      "image/png": "[encoded data removed]",
      "text/plain": [
       "<Figure size 432x288 with 1 Axes>"
      ]
     },
     "metadata": {},
     "output_type": "display_data"
    }
   ],
   "source": [
    "for i in range(1, time_steps): # iterating across the time steps\n",
    "    for j in range(1, num_x):\n",
    "        u[i, j] = u[i-1, j] - c*(dt/dx)*(u[i-1, j] - u[i-1, j-1])\n",
    "        \n",
    "plt.plot(numpy.linspace(0, 2, num_x), u[-1, :]);\n"
   ]
  },
  {
   "cell_type": "code",
   "execution_count": 142,
   "metadata": {},
   "outputs": [
    {
     "data": {
      "image/png": "[encoded data removed]",
      "text/plain": [
       "<Figure size 432x288 with 1 Axes>"
      ]
     },
     "metadata": {},
     "output_type": "display_data"
    }
   ],
   "source": []
  },
  {
   "cell_type": "code",
   "execution_count": null,
   "metadata": {},
   "outputs": [],
   "source": []
  }
 ],
 "metadata": {
  "kernelspec": {
   "display_name": "Python 3",
   "language": "python",
   "name": "python3"
  },
  "language_info": {
   "codemirror_mode": {
    "name": "ipython",
    "version": 3
   },
   "file_extension": ".py",
   "mimetype": "text/x-python",
   "name": "python",
   "nbconvert_exporter": "python",
   "pygments_lexer": "ipython3",
   "version": "3.6.5"
  }
 },
 "nbformat": 4,
 "nbformat_minor": 2
}
