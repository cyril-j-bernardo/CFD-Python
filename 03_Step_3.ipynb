{
 "cells": [
  {
   "cell_type": "markdown",
   "metadata": {},
   "source": [
    "# Convergence and the CFL Condition\n",
    "\n",
    "What happens when we change the number of points in our grid?"
   ]
  },
  {
   "cell_type": "code",
   "execution_count": 2,
   "metadata": {},
   "outputs": [],
   "source": [
    "import numpy as np\n",
    "import matplotlib.pyplot as plt\n",
    "%matplotlib inline\n",
    "\n",
    "def linearconv(num_x):\n",
    "    dx = 2 / (num_x - 1)\n",
    "    num_t = 20\n",
    "    len_t = 0.5\n",
    "    dt = len_t / num_t\n",
    "    c = 1\n",
    "    \n",
    "    u = np.ones(num_x)\n",
    "    u[int(0.5/dx):int(1/dx+1)] = 2\n",
    "    \n",
    "    un = np.ones(num_x)\n",
    "    \n",
    "    for n in range(num_t):\n",
    "        un = u.copy()\n",
    "        for i in range(1, num_x):\n",
    "            u[i] = un[i] - c*dt/dx*(un[i] - un[i-1])\n",
    "            \n",
    "    plt.plot(np.linspace(0, 2, num_x), u);"
   ]
  },
  {
   "cell_type": "code",
   "execution_count": 10,
   "metadata": {},
   "outputs": [
    {
     "data": {
      "image/png": "[encoded data removed]",
      "text/plain": [
       "<Figure size 432x288 with 1 Axes>"
      ]
     },
     "metadata": {},
     "output_type": "display_data"
    }
   ],
   "source": [
    "linearconv(85)"
   ]
  },
  {
   "cell_type": "markdown",
   "metadata": {},
   "source": [
    "As we increase the grid size, there is a point where too much resolution is too much. When we increase the resolution, it becomes clear that there's something bad that's happened. \n",
    "\n",
    "Over the period of time $\\Delta t$, the wave travels a distance greater than $dx$. Stability can be enforced if the $\\Delta t$ step size is calculated w.r.t the size of $dx$ \n",
    "\n",
    "$$\\sigma = \\frac{u\\Delta T}{\\Delta x} \\leq \\sigma_{max}$$\n",
    " \n",
    "*u* is the speed of the wave, $\\sigma$ is the **Courant Number**. The value, $\\sigma_{max}$ is dependent on the discretization. "
   ]
  },
  {
   "cell_type": "code",
   "execution_count": 12,
   "metadata": {},
   "outputs": [],
   "source": [
    "# New code that uses sigma as a parameter\n",
    "\n",
    "import numpy as np\n",
    "import matplotlib.pyplot as plt\n",
    "%matplotlib inline\n",
    "\n",
    "def linearconv(num_x):\n",
    "    dx = 2 / (num_x - 1)\n",
    "    num_t = 20\n",
    "    len_t = 0.5\n",
    "    c = 1\n",
    "    sigma = 0.5\n",
    "    dt = sigma * dx\n",
    "    \n",
    "    u = np.ones(num_x)\n",
    "    u[int(0.5/dx):int(1/dx+1)] = 2\n",
    "    \n",
    "    un = np.ones(num_x)\n",
    "    \n",
    "    for n in range(num_t):\n",
    "        un = u.copy()\n",
    "        for i in range(1, num_x):\n",
    "            u[i] = un[i] - c*dt/dx*(un[i] - un[i-1])\n",
    "            \n",
    "    plt.plot(np.linspace(0, 2, num_x), u);"
   ]
  },
  {
   "cell_type": "code",
   "execution_count": 17,
   "metadata": {},
   "outputs": [
    {
     "data": {
      "image/png": "[encoded data removed]",
      "text/plain": [
       "<Figure size 432x288 with 1 Axes>"
      ]
     },
     "metadata": {},
     "output_type": "display_data"
    }
   ],
   "source": [
    "linearconv(10000)"
   ]
  }
 ],
 "metadata": {
  "kernelspec": {
   "display_name": "Python 3",
   "language": "python",
   "name": "python3"
  },
  "language_info": {
   "codemirror_mode": {
    "name": "ipython",
    "version": 3
   },
   "file_extension": ".py",
   "mimetype": "text/x-python",
   "name": "python",
   "nbconvert_exporter": "python",
   "pygments_lexer": "ipython3",
   "version": "3.6.5"
  }
 },
 "nbformat": 4,
 "nbformat_minor": 2
}
